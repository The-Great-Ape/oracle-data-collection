{
 "cells": [
  {
   "cell_type": "code",
   "execution_count": null,
   "id": "84b9fc58",
   "metadata": {},
   "outputs": [],
   "source": [
    "import pandas as pd\n",
    "from statistics import median, mode\n",
    "from wrapper import get_bals, token_accs_by_owner, acc_info\n",
    "from datetime import date\n",
    "from solana.rpc.api import Client\n",
    "import json"
   ]
  },
  {
   "cell_type": "code",
   "execution_count": null,
   "id": "9e87f5b6",
   "metadata": {},
   "outputs": [],
   "source": [
    "solana_client = Client('https://explorer-api.mainnet-beta.solana.com/')"
   ]
  },
  {
   "cell_type": "code",
   "execution_count": null,
   "id": "0dd89070",
   "metadata": {},
   "outputs": [],
   "source": [
    "smb = pd.read_csv('../csvs/smb.csv')\n",
    "aurory = pd.read_csv('../csvs/aurory.csv')\n",
    "degens = pd.read_csv('../csvs/degens.csv')\n",
    "frakt = pd.read_csv('../csvs/frakt.csv')  \n",
    "gecko = pd.read_csv('../csvs/gecko.csv')\n",
    "meerkat = pd.read_csv('../csvs/meerkat.csv')\n",
    "solsteads = pd.read_csv('../csvs/solsteads.csv')\n",
    "stylishstuds = pd.read_csv('../csvs/stylishstuds.csv')\n",
    "thugz = pd.read_csv('../csvs/thugz.csv')"
   ]
  },
  {
   "cell_type": "code",
   "execution_count": null,
   "id": "b9b4ceea",
   "metadata": {},
   "outputs": [],
   "source": [
    "def initialize(paths):\n",
    "    return paths"
   ]
  },
  {
   "cell_type": "code",
   "execution_count": null,
   "id": "b5959cab",
   "metadata": {},
   "outputs": [],
   "source": [
    "def preformat(df):\n",
    "    col1 = df.columns[0]\n",
    "    col2 = df.columns[1]\n",
    "    df.rename(columns = {col1:'pubkey', col2:'nft_count'}, inplace = True)\n",
    "    df.loc[-1] = [col1, float(col2)]\n",
    "    df.index = df.index + 1\n",
    "    df = df.sort_index()\n",
    "    return df"
   ]
  },
  {
   "cell_type": "code",
   "execution_count": null,
   "id": "cff9b1ec",
   "metadata": {},
   "outputs": [],
   "source": [
    "def add_lamports(df):\n",
    "    df['lamports'] = None\n",
    "    for i in range(len(df)):\n",
    "        pubkey = df['pubkey'][i]\n",
    "        balance = get_bals(df['pubkey'][i])\n",
    "        df['lamports'][i] = balance\n",
    "    return df"
   ]
  },
  {
   "cell_type": "code",
   "execution_count": null,
   "id": "b47fdaf0",
   "metadata": {},
   "outputs": [],
   "source": [
    "# metrics on NFT posession count over all users \n",
    "def nft_info(df):\n",
    "    num = 0\n",
    "    length = len(df['nft_count'].values)\n",
    "    for i in range(length):\n",
    "        num = num + df['nft_count'].values[i]\n",
    "    nfts_avg = round(num / length)\n",
    "    nfts_median = median(df['nft_count'].values)\n",
    "    nfts_mode = mode(df['nft_count'].values)\n",
    "    \n",
    "    return nfts_avg, nfts_median, nfts_mode"
   ]
  },
  {
   "cell_type": "code",
   "execution_count": null,
   "id": "db1a22c3",
   "metadata": {},
   "outputs": [],
   "source": [
    "# metrics on sol/lamport balance over all users\n",
    "def bal_info(df):\n",
    "    num = 0\n",
    "    length = len(df['lamports'].values)\n",
    "    for i in range(length):\n",
    "        num = num + df['lamports'].values[i]\n",
    "    lamports_avg = round(num / length)\n",
    "    lamports_median = round(median(df['lamports'].values))\n",
    "    lamports_mode = round(mode(df['lamports'].values))\n",
    "    sol_avg = round(lamports_avg * 10**-9, 3)\n",
    "    \n",
    "    return lamports_avg, lamports_median, lamports_mode, sol_avg"
   ]
  },
  {
   "cell_type": "code",
   "execution_count": null,
   "id": "b0d6d034",
   "metadata": {},
   "outputs": [],
   "source": [
    "def analyze(df):\n",
    "    date = pd.to_datetime('today').strftime(\"%Y/%m/%d\")\n",
    "    no_lamports = preformat(df)\n",
    "    populated_df = add_lamports(no_lamports)\n",
    "    nfts_avg, nfts_median, nfts_mode = nft_info(populated_df)\n",
    "    lamports_avg, lamports_median, lamports_mode, sol_avg = bal_info(populated_df)\n",
    "    \n",
    "    nfts_total = 0 \n",
    "    for val in df['nft_count']:\n",
    "        nfts_total = nfts_total + val\n",
    "        \n",
    "    analytics_dict = {\n",
    "        'date':[date],\n",
    "        'users':[len(df)],\n",
    "        'sol_avg':[sol_avg],\n",
    "        'lamports_avg':[lamports_avg],\n",
    "        'lamports_median':[lamports_median],\n",
    "        'lamports_mode':[lamports_mode],\n",
    "        'nfts_total':[nfts_total],\n",
    "        'nfts_avg':[nfts_avg], \n",
    "        'nfts_median':[nfts_median],\n",
    "        'nfts_mode':[nfts_mode]\n",
    "    }\n",
    "    \n",
    "    analytics_df = pd.DataFrame.from_dict(analytics_dict)\n",
    "    print('done')\n",
    "    \n",
    "    return populated_df, analytics_df"
   ]
  },
  {
   "cell_type": "code",
   "execution_count": null,
   "id": "25db48ed",
   "metadata": {},
   "outputs": [],
   "source": [
    "aurory_df, aurory_analytics = analyze(aurory)\n",
    "smb_df, smb_analytics = analyze(smb)\n",
    "degens_df, degens_analytics = analyze(degens)\n",
    "frakt_df, frakt_analytics = analyze(frakt)\n",
    "gecko_df, gecko_analytics = analyze(gecko)\n",
    "meerkat_df, meerkat_analytics = analyze(meerkat)\n",
    "solsteads_df, solsteads_analytics = analyze(solsteads)\n",
    "stylishstuds_df, stylishstuds_analytics = analyze(stylishstuds)\n",
    "thugz_df, thugz_analytics = analyze(thugz)"
   ]
  },
  {
   "cell_type": "code",
   "execution_count": null,
   "id": "4c70cd67",
   "metadata": {},
   "outputs": [],
   "source": [
    "def csvsave(array):\n",
    "    for arr in array:\n",
    "        folder = arr.split('_')[0]\n",
    "        files = arr.split(', ')\n",
    "        for file in files:\n",
    "            toexec = file + \".to_csv('../metrics/\" + folder + '/' + file + \".csv', index=False)\"\n",
    "            print(toexec)\n",
    "            exec(toexec)"
   ]
  },
  {
   "cell_type": "code",
   "execution_count": null,
   "id": "2b0f21f4",
   "metadata": {},
   "outputs": [],
   "source": [
    "okarray = [\n",
    "    'aurory_df, aurory_analytics',\n",
    "    'smb_df, smb_analytics',\n",
    "    'degens_df, degens_analytics',\n",
    "    'frakt_df, frakt_analytics',\n",
    "    'gecko_df, gecko_analytics',\n",
    "    'meerkat_df, meerkat_analytics',\n",
    "    'solsteads_df, solsteads_analytics',\n",
    "    'stylishstuds_df, stylishstuds_analytics',\n",
    "    'thugz_df, thugz_analytics'\n",
    "    ]"
   ]
  },
  {
   "cell_type": "code",
   "execution_count": null,
   "id": "05ebf16d",
   "metadata": {},
   "outputs": [],
   "source": [
    "csvsave(okarray)"
   ]
  }
 ],
 "metadata": {
  "kernelspec": {
   "display_name": "Python 3",
   "language": "python",
   "name": "python3"
  },
  "language_info": {
   "codemirror_mode": {
    "name": "ipython",
    "version": 3
   },
   "file_extension": ".py",
   "mimetype": "text/x-python",
   "name": "python",
   "nbconvert_exporter": "python",
   "pygments_lexer": "ipython3",
   "version": "3.9.2"
  }
 },
 "nbformat": 4,
 "nbformat_minor": 5
}
