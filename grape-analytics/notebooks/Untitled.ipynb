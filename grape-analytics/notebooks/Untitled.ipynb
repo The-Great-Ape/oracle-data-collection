{
 "cells": [
  {
   "cell_type": "code",
   "execution_count": null,
   "id": "84b9fc58",
   "metadata": {},
   "outputs": [],
   "source": [
    "import pandas as pd\n",
    "from statistics import median, mode\n",
    "from wrapper import get_bals, acc_info\n",
    "from datetime import date\n",
    "import math"
   ]
  },
  {
   "cell_type": "code",
   "execution_count": null,
   "id": "de467fea",
   "metadata": {},
   "outputs": [],
   "source": [
    "def csvdict(paths):\n",
    "    csvs = {}\n",
    "    for path in paths:\n",
    "        name = path.split('.')[-2].split('/')[-1]\n",
    "        df = pd.read_csv(path)\n",
    "        csvs[name] = df\n",
    "        \n",
    "    return csvs"
   ]
  },
  {
   "cell_type": "code",
   "execution_count": null,
   "id": "b5959cab",
   "metadata": {},
   "outputs": [],
   "source": [
    "def preformat(df):\n",
    "    col1 = df.columns[0]\n",
    "    col2 = df.columns[1]\n",
    "    df.rename(columns = {col1:'pubkey', col2:'nft_count'}, inplace = True)\n",
    "    df.loc[-1] = [col1, float(col2)]\n",
    "    df.index = df.index + 1\n",
    "    df = df.sort_index()\n",
    "    \n",
    "    return df"
   ]
  },
  {
   "cell_type": "code",
   "execution_count": null,
   "id": "cff9b1ec",
   "metadata": {},
   "outputs": [],
   "source": [
    "def add_lamports(df):\n",
    "    df['lamports'] = df.pubkey.apply(get_bals)\n",
    "    \n",
    "    return df"
   ]
  },
  {
   "cell_type": "code",
   "execution_count": null,
   "id": "b47fdaf0",
   "metadata": {},
   "outputs": [],
   "source": [
    "# metrics on NFT posession count over all users \n",
    "def nft_info(df):\n",
    "    nfts_total = df.nft_count.sum()\n",
    "    nfts_avg = df.nft_count.mean()\n",
    "    \n",
    "    return nfts_avg, nfts_total"
   ]
  },
  {
   "cell_type": "code",
   "execution_count": null,
   "id": "db1a22c3",
   "metadata": {},
   "outputs": [],
   "source": [
    "# metrics on sol/lamport balance over all users\n",
    "def bal_info(df):\n",
    "    sol_total = round(df.lamports.sum() * 10**-9, 4)\n",
    "    sol_avg = round(df.lamports.mean() * 10**-9, 4)\n",
    "    \n",
    "    return sol_avg, sol_total"
   ]
  },
  {
   "cell_type": "code",
   "execution_count": null,
   "id": "b0d6d034",
   "metadata": {},
   "outputs": [],
   "source": [
    "def analyze(csvs):\n",
    "    results = {}\n",
    "    for key in list(csvs.keys()):\n",
    "        df = csvs[key]\n",
    "        date = pd.to_datetime('today').strftime(\"%Y/%m/%d\")\n",
    "        no_lamports = preformat(df)\n",
    "        populated_df = add_lamports(no_lamports)\n",
    "        nfts_avg, nfts_total = nft_info(populated_df)\n",
    "        sol_avg, sol_total = bal_info(populated_df)\n",
    "        \n",
    "        analytics_dict = {\n",
    "            'community':[key],\n",
    "            'date':[date],\n",
    "            'users':[len(df)],\n",
    "            'sol_avg':[sol_avg],\n",
    "            'sol_total':[sol_total],\n",
    "            'nfts_avg':[nfts_avg], \n",
    "            'nfts_total':[nfts_total]\n",
    "        }\n",
    "    \n",
    "        analytics_df = pd.DataFrame.from_dict(analytics_dict)\n",
    "        analytics_df = analytics_df.set_index('community')\n",
    "        result = [populated_df, analytics_df]\n",
    "        results[key] = result\n",
    "        \n",
    "    return results"
   ]
  },
  {
   "cell_type": "code",
   "execution_count": null,
   "id": "abebd0cf",
   "metadata": {},
   "outputs": [],
   "source": [
    "def scores(csvs):\n",
    "    for key in list(csvs.keys()):\n",
    "        df = csvs[key][1]\n",
    "        users = df['users'].values[0]\n",
    "        nftnum = df['nfts_total'].values[0]\n",
    "        while True:\n",
    "            print(\"For community: \", key)\n",
    "\n",
    "            holders = input(\"Number Of Holders: \")\n",
    "            try:\n",
    "                int(holders)\n",
    "                break\n",
    "            except:\n",
    "                print(\"Invalid entry. Passing NaN.\")\n",
    "                holders = math.nan\n",
    "                break\n",
    "\n",
    "            supply = input(\"Number of NFT Supply: \")\n",
    "            try:\n",
    "                int(supply)\n",
    "                break\n",
    "            except:\n",
    "                print(\"Invalid entry. Passing NaN.\")\n",
    "                supply = math.nan\n",
    "                break\n",
    "\n",
    "            floor = input(\"Floor price: \")\n",
    "            try:\n",
    "                int(floor)\n",
    "                break\n",
    "            except:\n",
    "                print(\"Invalid entry. Passing NaN.\")\n",
    "                floor = math.nan\n",
    "                break\n",
    "\n",
    "        user_gscore = float(users) / float(holders)\n",
    "        nft_gscore = float(nftnum) / float(supply)\n",
    "        nft_floor = float(floor) * float(supply)\n",
    "\n",
    "        df['user_grape_score'] = str(round(user_gscore * 100, 2)) + '%'\n",
    "        df['nft_grape_score']  = str(round(nft_gscore * 100, 2)) + '%'\n",
    "        df['nft_floor']  = str(round(nft_floor, 3)) + ' SOL'\n",
    "\n",
    "\n",
    "    return df"
   ]
  },
  {
   "cell_type": "code",
   "execution_count": null,
   "id": "dfbc0dee",
   "metadata": {},
   "outputs": [],
   "source": [
    "def leaderboard(csvs):\n",
    "    usernum = {}\n",
    "    solavg = {}\n",
    "    soltotal = {}\n",
    "    nftsavg = {}\n",
    "    nftstotal = {}\n",
    "    nftgrapescore = {}\n",
    "    usergrapescore = {}\n",
    "    floorprice = {}\n",
    "    for key in list(csvs.keys()):\n",
    "        df = csvs[key][1]        \n",
    "        name = df.index.values[0]\n",
    "        usernum[name] = df['users'].values[0]\n",
    "        solavg[name] = df['sol_avg'].values[0]\n",
    "        soltotal[name] = df['sol_total'].values[0]\n",
    "        nftsavg[name] = df['nfts_avg'].values[0]\n",
    "        nftstotal[name] = df['nfts_total'].values[0]\n",
    "        nftgrapescore[name] = df['nft_grape_score'].values[0]\n",
    "        usergrapescore[name] = df['user_grape_score'].values[0]\n",
    "        floorprice[name] = df['nft_floor'].values[0]\n",
    "        \n",
    "    userdf = pd.DataFrame(usernum, index=['Users'])\n",
    "    solavgdf = pd.DataFrame(solavg, index=['Sol Average'])\n",
    "    totsoldf = pd.DataFrame(soltotal, index=['Sol Total'])\n",
    "    nftsavgdf = pd.DataFrame(nftsavg, index=['NFTs Average'])\n",
    "    totnftsdf = pd.DataFrame(nftstotal, index=['NFTs Total'])\n",
    "    nftgrapescoredf = pd.DataFrame(nftgrapescore, index=['NFT Grape Score'])\n",
    "    usergrapescoredf = pd.DataFrame(usergrapescore, index=['User Grape Score'])\n",
    "\n",
    "    return [userdf, solavgdf, totsoldf, nftsavgdf, totnftsdf, nftgrapescoredf, usergrapescoredf]"
   ]
  },
  {
   "cell_type": "code",
   "execution_count": null,
   "id": "61945589",
   "metadata": {},
   "outputs": [],
   "source": [
    "def leaderboard_save(csvs):\n",
    "    for csv in csvs:\n",
    "        filename = '../metrics/leaderboards/' + csv.index.values[0] + '.csv'\n",
    "        csv.to_csv(filename)"
   ]
  },
  {
   "cell_type": "code",
   "execution_count": null,
   "id": "54e17afb",
   "metadata": {},
   "outputs": [],
   "source": [
    "def postanalysis_save(csvs):\n",
    "    for key in list(csvs.keys()):\n",
    "        csv = csvs[key]\n",
    "        csv.items\n",
    "        for df in csv:\n",
    "            # to be continued"
   ]
  },
  {
   "cell_type": "code",
   "execution_count": null,
   "id": "ea4e9642",
   "metadata": {},
   "outputs": [],
   "source": [
    "import os\n",
    "options_paths = [os.path.join(dp, f) for dp, dn, filenames in os.walk('../csvs/') for f in filenames if os.path.splitext(f)[1] == '.csv'][:5]"
   ]
  },
  {
   "cell_type": "code",
   "execution_count": null,
   "id": "7e491f41",
   "metadata": {
    "scrolled": true
   },
   "outputs": [],
   "source": [
    "csvs_preanalysis = csvdict(options_paths)\n",
    "csvs_postanalysis = analyze(csvs_preanalysis)\n",
    "scores(csvs_postanalysis)\n",
    "csvs_leaderboard = leaderboard(csvs_postanalysis)\n",
    "leaderboard_save(csvs_leaderboard)"
   ]
  }
 ],
 "metadata": {
  "kernelspec": {
   "display_name": "Python 3 (ipykernel)",
   "language": "python",
   "name": "python3"
  },
  "language_info": {
   "codemirror_mode": {
    "name": "ipython",
    "version": 3
   },
   "file_extension": ".py",
   "mimetype": "text/x-python",
   "name": "python",
   "nbconvert_exporter": "python",
   "pygments_lexer": "ipython3",
   "version": "3.8.2"
  }
 },
 "nbformat": 4,
 "nbformat_minor": 5
}
