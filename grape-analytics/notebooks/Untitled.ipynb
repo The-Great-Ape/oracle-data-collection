{
 "cells": [
  {
   "cell_type": "code",
   "execution_count": null,
   "id": "84b9fc58",
   "metadata": {},
   "outputs": [],
   "source": [
    "import pandas as pd\n",
    "from statistics import median, mode\n",
    "from wrapper import get_bals, token_accs_by_owner, acc_info\n",
    "from datetime import date\n",
    "from solana.rpc.api import Client\n",
    "import json\n",
    "import os"
   ]
  },
  {
   "cell_type": "code",
   "execution_count": null,
   "id": "9e87f5b6",
   "metadata": {},
   "outputs": [],
   "source": [
    "solana_client = Client('https://explorer-api.mainnet-beta.solana.com/')"
   ]
  },
  {
   "cell_type": "code",
   "execution_count": null,
   "id": "664d868e",
   "metadata": {},
   "outputs": [],
   "source": [
    "arr = ['../csvs/smb.csv',\n",
    "       '../csvs/aurory.csv',\n",
    "       '../csvs/degens.csv',\n",
    "      '../csvs/frakt.csv',\n",
    "      '../csvs/gecko.csv',\n",
    "      '../csvs/meerkat.csv',\n",
    "      '../csvs/solsteads.csv',\n",
    "      '../csvs/stylishstuds.csv',\n",
    "      '../csvs/thugz.csv']"
   ]
  },
  {
   "cell_type": "code",
   "execution_count": null,
   "id": "de467fea",
   "metadata": {},
   "outputs": [],
   "source": [
    "def csvdict(paths):\n",
    "    csvs = {}\n",
    "    for path in paths:\n",
    "        name = path.split('.')[-2].split('/')[-1]\n",
    "        df = pd.read_csv(path)\n",
    "        csvs[name] = df\n",
    "    return csvs"
   ]
  },
  {
   "cell_type": "code",
   "execution_count": null,
   "id": "b5959cab",
   "metadata": {},
   "outputs": [],
   "source": [
    "def preformat(df):\n",
    "    col1 = df.columns[0]\n",
    "    col2 = df.columns[1]\n",
    "    df.rename(columns = {col1:'pubkey', col2:'nft_count'}, inplace = True)\n",
    "    df.loc[-1] = [col1, float(col2)]\n",
    "    df.index = df.index + 1\n",
    "    df = df.sort_index()\n",
    "    return df"
   ]
  },
  {
   "cell_type": "code",
   "execution_count": null,
   "id": "cff9b1ec",
   "metadata": {},
   "outputs": [],
   "source": [
    "def add_lamports(df):\n",
    "    df['lamports'] = None\n",
    "    for i in range(len(df)):\n",
    "        pubkey = df['pubkey'][i]\n",
    "        balance = get_bals(df['pubkey'][i])\n",
    "        df['lamports'][i] = balance\n",
    "    return df"
   ]
  },
  {
   "cell_type": "code",
   "execution_count": null,
   "id": "b47fdaf0",
   "metadata": {},
   "outputs": [],
   "source": [
    "# metrics on NFT posession count over all users \n",
    "def nft_info(df):\n",
    "    num = 0\n",
    "    length = len(df['nft_count'].values)\n",
    "    for i in range(length):\n",
    "        num = num + df['nft_count'].values[i]\n",
    "    nfts_avg = round(num / length)\n",
    "    nfts_median = median(df['nft_count'].values)\n",
    "    nfts_mode = mode(df['nft_count'].values)\n",
    "    \n",
    "    nfts_total = 0 \n",
    "    for val in df['nft_count']:\n",
    "        nfts_total = nfts_total + val\n",
    "    \n",
    "    return nfts_avg, nfts_total, nfts_median, nfts_mode"
   ]
  },
  {
   "cell_type": "code",
   "execution_count": null,
   "id": "db1a22c3",
   "metadata": {},
   "outputs": [],
   "source": [
    "# metrics on sol/lamport balance over all users\n",
    "def bal_info(df):\n",
    "    num = 0\n",
    "    length = len(df['lamports'].values)\n",
    "    for i in range(length):\n",
    "        num = num + df['lamports'].values[i]\n",
    "    lamports_avg = round(num / length)\n",
    "    lamports_median = round(median(df['lamports'].values))\n",
    "    lamports_mode = round(mode(df['lamports'].values))\n",
    "    sol_avg = round(lamports_avg * 10**-9, 4)\n",
    "    sol_total = round(num * 10**-9, 4)\n",
    "    \n",
    "    \n",
    "    return lamports_avg, lamports_median, lamports_mode, sol_avg, sol_total"
   ]
  },
  {
   "cell_type": "code",
   "execution_count": null,
   "id": "b0d6d034",
   "metadata": {},
   "outputs": [],
   "source": [
    "def analyze(csvdict):\n",
    "    results = {}\n",
    "    for key in csvdict.keys:\n",
    "        df = csvdict[key]\n",
    "        date = pd.to_datetime('today').strftime(\"%Y/%m/%d\")\n",
    "        no_lamports = preformat(df)\n",
    "        populated_df = add_lamports(no_lamports)\n",
    "        nfts_avg, nfts_total, nfts_median, nfts_mode = nft_info(populated_df)\n",
    "        lamports_avg, lamports_median, lamports_mode, sol_avg, sol_total = bal_info(populated_df)\n",
    "        \n",
    "\n",
    "        \n",
    "        analytics_dict = {\n",
    "            'date':[date],\n",
    "            'users':[len(df)],\n",
    "            'sol_avg':[sol_avg],\n",
    "            'sol_total':[sol_total],\n",
    "            #'lamports_avg':[lamports_avg],\n",
    "            #'lamports_median':[lamports_median],\n",
    "            #'lamports_mode':[lamports_mode],\n",
    "            'nfts_avg':[nfts_avg], \n",
    "            'nfts_total':[nfts_total]\n",
    "            #'nfts_median':[nfts_median],\n",
    "            #'nfts_mode':[nfts_mode]\n",
    "        }\n",
    "    \n",
    "        analytics_df = pd.DataFrame.from_dict(analytics_dict)\n",
    "        result = [populated_df, analytics_df]\n",
    "        \n",
    "        results[key] = result\n",
    "    return results"
   ]
  },
  {
   "cell_type": "code",
   "execution_count": null,
   "id": "61945589",
   "metadata": {},
   "outputs": [],
   "source": [
    "def csvsave(array):\n",
    "    for arr in array:\n",
    "        folder = arr.split('_')[0]\n",
    "        files = arr.split(', ')\n",
    "        for file in files:\n",
    "            toexec = file + \".to_csv('../metrics/\" + folder + '/' + file + \".csv', index=False)\"\n",
    "            print(toexec)\n",
    "            exec(toexec)"
   ]
  },
  {
   "cell_type": "code",
   "execution_count": null,
   "id": "2b0f21f4",
   "metadata": {},
   "outputs": [],
   "source": [
    "okarray = [\n",
    "    'aurory_df, aurory_analytics',\n",
    "    'smb_df, smb_analytics',\n",
    "    'degens_df, degens_analytics',\n",
    "    'frakt_df, frakt_analytics',\n",
    "    'gecko_df, gecko_analytics',\n",
    "    'meerkat_df, meerkat_analytics',\n",
    "    'solsteads_df, solsteads_analytics',\n",
    "    'stylishstuds_df, stylishstuds_analytics',\n",
    "    'thugz_df, thugz_analytics'\n",
    "    ]"
   ]
  },
  {
   "cell_type": "code",
   "execution_count": null,
   "id": "ea4e9642",
   "metadata": {},
   "outputs": [],
   "source": [
    "options_paths = [os.path.join(dp, f) for dp, dn, filenames in os.walk('../metrics/') for f in filenames if os.path.splitext(f)[1] == '.csv']"
   ]
  },
  {
   "cell_type": "code",
   "execution_count": null,
   "id": "059f6a72",
   "metadata": {},
   "outputs": [],
   "source": [
    "count = str(round(stylishstuds['users'].values[0]/2125 * 100, 2)) + '%'\n",
    "stylishstuds['grape_score'] = count"
   ]
  },
  {
   "cell_type": "code",
   "execution_count": null,
   "id": "dfbc0dee",
   "metadata": {},
   "outputs": [],
   "source": [
    "def newdfs(dfs):\n",
    "    usernum = {}\n",
    "    solavg = {}\n",
    "    soltotal = {}\n",
    "    nftsavg = {}\n",
    "    nftstotal = {}\n",
    "    grapescore = {}\n",
    "    for df in dfs:\n",
    "        print(df)\n",
    "        name = df['name'].values[0]\n",
    "        users = df['users'].values[0]\n",
    "        sol_avg = df['sol_avg'].values[0]\n",
    "        sol_total = df['sol_total'].values[0]\n",
    "        nfts_avg = df['nfts_avg'].values[0]\n",
    "        nfts_total = df['nfts_total'].values[0]\n",
    "        grape_score = df['grape_score'].values[0]\n",
    "        usernum[name] = users\n",
    "        solavg[name] = sol_avg\n",
    "        soltotal[name] = sol_total\n",
    "        nftsavg[name] = nfts_avg\n",
    "        grapescore[name] = grape_score\n",
    "    \n",
    "    userdf = pd.DataFrame(usernum, index=['Users'])\n",
    "    solavgdf = pd.DataFrame(solavg, index=['Sol Average'])\n",
    "    totsoldf = pd.DataFrame(soltotal, index=['Sol Total'])\n",
    "    nftsavgdf = pd.DataFrame(nftsavg, index=['NFTs Average'])\n",
    "    totnftsdf = pd.DataFrame(nftstotal, index=['NFTs Total'])\n",
    "    grapescoredf = pd.DataFrame(grapescore, index=['Grape Score'])\n",
    "    \n",
    "    return userdf, solavgdf, totsoldf, nftsavgdf, totnftsdf, grapescoredf"
   ]
  },
  {
   "cell_type": "code",
   "execution_count": null,
   "id": "855d9a54",
   "metadata": {},
   "outputs": [],
   "source": [
    "userdf, solavgdf, totsoldf, nftsavgdf, totnftsdf, grapescoredf = newdfs(dfs)"
   ]
  },
  {
   "cell_type": "code",
   "execution_count": null,
   "id": "0d7b0d8d",
   "metadata": {},
   "outputs": [],
   "source": [
    "df = pd.read_csv('../metrics/stylishstuds/stylishstuds_df.csv')\n",
    "num = 0\n",
    "for count in df['nft_count'].values:\n",
    "    num = count + num"
   ]
  },
  {
   "cell_type": "code",
   "execution_count": null,
   "id": "54b7c2a3",
   "metadata": {},
   "outputs": [],
   "source": [
    "df = {'smb':'50.94%', 'meerkat':'32.21%', 'solsteads': '32.84%' ,'thugz': '56.10%', 'gecko': '40.01%', 'aurory': '30.29%', 'frakt': '0.85%', 'degens': '34.97%', 'stylishstuds': '41.49%'}"
   ]
  },
  {
   "cell_type": "code",
   "execution_count": null,
   "id": "87f018a3",
   "metadata": {},
   "outputs": [],
   "source": [
    "newdf = pd.DataFrame(df, index=['score'])"
   ]
  },
  {
   "cell_type": "code",
   "execution_count": null,
   "id": "45d4b4e8",
   "metadata": {},
   "outputs": [],
   "source": [
    "newdf.to_csv('grape_score_second.csv')"
   ]
  }
 ],
 "metadata": {
  "kernelspec": {
   "display_name": "Python 3",
   "language": "python",
   "name": "python3"
  },
  "language_info": {
   "codemirror_mode": {
    "name": "ipython",
    "version": 3
   },
   "file_extension": ".py",
   "mimetype": "text/x-python",
   "name": "python",
   "nbconvert_exporter": "python",
   "pygments_lexer": "ipython3",
   "version": "3.9.2"
  }
 },
 "nbformat": 4,
 "nbformat_minor": 5
}
